{
 "cells": [
  {
   "cell_type": "code",
   "execution_count": 2,
   "metadata": {},
   "outputs": [
    {
     "ename": "KeyboardInterrupt",
     "evalue": "",
     "output_type": "error",
     "traceback": [
      "\u001b[1;31m---------------------------------------------------------------------------\u001b[0m",
      "\u001b[1;31mKeyboardInterrupt\u001b[0m                         Traceback (most recent call last)",
      "Cell \u001b[1;32mIn[2], line 42\u001b[0m\n\u001b[0;32m     39\u001b[0m     \u001b[38;5;28;01mreturn\u001b[39;00m pairs, labels\n\u001b[0;32m     41\u001b[0m \u001b[38;5;66;03m# Load training and validation data\u001b[39;00m\n\u001b[1;32m---> 42\u001b[0m train_pairs, train_labels \u001b[38;5;241m=\u001b[39m \u001b[43mload_data\u001b[49m\u001b[43m(\u001b[49m\u001b[38;5;124;43m'\u001b[39;49m\u001b[38;5;124;43mtrain-claims.json\u001b[39;49m\u001b[38;5;124;43m'\u001b[39;49m\u001b[43m,\u001b[49m\u001b[43m \u001b[49m\u001b[38;5;124;43m'\u001b[39;49m\u001b[38;5;124;43mfiltered_evidence.json\u001b[39;49m\u001b[38;5;124;43m'\u001b[39;49m\u001b[43m)\u001b[49m\n\u001b[0;32m     43\u001b[0m dev_pairs, dev_labels \u001b[38;5;241m=\u001b[39m load_data(\u001b[38;5;124m'\u001b[39m\u001b[38;5;124mdev-claims.json\u001b[39m\u001b[38;5;124m'\u001b[39m, \u001b[38;5;124m'\u001b[39m\u001b[38;5;124mfiltered_evidence.json\u001b[39m\u001b[38;5;124m'\u001b[39m)\n",
      "Cell \u001b[1;32mIn[2], line 33\u001b[0m, in \u001b[0;36mload_data\u001b[1;34m(claims_file, evidence_file)\u001b[0m\n\u001b[0;32m     30\u001b[0m         \u001b[38;5;28;01mcontinue\u001b[39;00m\n\u001b[0;32m     32\u001b[0m \u001b[38;5;66;03m# Create negative pairs by selecting random evidences\u001b[39;00m\n\u001b[1;32m---> 33\u001b[0m negative_evidences \u001b[38;5;241m=\u001b[39m np\u001b[38;5;241m.\u001b[39mrandom\u001b[38;5;241m.\u001b[39mchoice([eid \u001b[38;5;28;01mfor\u001b[39;00m eid \u001b[38;5;129;01min\u001b[39;00m all_evidence_ids \u001b[38;5;28;01mif\u001b[39;00m eid \u001b[38;5;129;01mnot\u001b[39;00m \u001b[38;5;129;01min\u001b[39;00m positive_evidences],\n\u001b[0;32m     34\u001b[0m                                       size\u001b[38;5;241m=\u001b[39m\u001b[38;5;28mlen\u001b[39m(positive_evidences), replace\u001b[38;5;241m=\u001b[39m\u001b[38;5;28;01mFalse\u001b[39;00m)\n\u001b[0;32m     35\u001b[0m \u001b[38;5;28;01mfor\u001b[39;00m neg_id \u001b[38;5;129;01min\u001b[39;00m negative_evidences:\n\u001b[0;32m     36\u001b[0m     pairs\u001b[38;5;241m.\u001b[39mappend((claim_text, evidence_data[neg_id]))\n",
      "Cell \u001b[1;32mIn[2], line 33\u001b[0m, in \u001b[0;36m<listcomp>\u001b[1;34m(.0)\u001b[0m\n\u001b[0;32m     30\u001b[0m         \u001b[38;5;28;01mcontinue\u001b[39;00m\n\u001b[0;32m     32\u001b[0m \u001b[38;5;66;03m# Create negative pairs by selecting random evidences\u001b[39;00m\n\u001b[1;32m---> 33\u001b[0m negative_evidences \u001b[38;5;241m=\u001b[39m np\u001b[38;5;241m.\u001b[39mrandom\u001b[38;5;241m.\u001b[39mchoice([eid \u001b[38;5;28;01mfor\u001b[39;00m eid \u001b[38;5;129;01min\u001b[39;00m all_evidence_ids \u001b[38;5;28;01mif\u001b[39;00m eid \u001b[38;5;129;01mnot\u001b[39;00m \u001b[38;5;129;01min\u001b[39;00m \u001b[43mpositive_evidences\u001b[49m],\n\u001b[0;32m     34\u001b[0m                                       size\u001b[38;5;241m=\u001b[39m\u001b[38;5;28mlen\u001b[39m(positive_evidences), replace\u001b[38;5;241m=\u001b[39m\u001b[38;5;28;01mFalse\u001b[39;00m)\n\u001b[0;32m     35\u001b[0m \u001b[38;5;28;01mfor\u001b[39;00m neg_id \u001b[38;5;129;01min\u001b[39;00m negative_evidences:\n\u001b[0;32m     36\u001b[0m     pairs\u001b[38;5;241m.\u001b[39mappend((claim_text, evidence_data[neg_id]))\n",
      "\u001b[1;31mKeyboardInterrupt\u001b[0m: "
     ]
    }
   ],
   "source": [
    "import json\n",
    "import numpy as np\n",
    "from tensorflow.keras.preprocessing.text import Tokenizer\n",
    "from tensorflow.keras.preprocessing.sequence import pad_sequences\n",
    "from tensorflow.keras.layers import Input, Embedding, LSTM, Lambda, Dense\n",
    "from tensorflow.keras.models import Model\n",
    "from tensorflow.keras.optimizers import Adam\n",
    "import tensorflow as tf\n",
    "\n",
    "def load_data(claims_file, evidence_file):\n",
    "    # Load files\n",
    "    with open(claims_file, 'r') as file:\n",
    "        claims_data = json.load(file)\n",
    "    with open(evidence_file, 'r') as file:\n",
    "        evidence_data = json.load(file)\n",
    "\n",
    "    pairs = []\n",
    "    labels = []\n",
    "\n",
    "    # Prepare positive and negative pairs\n",
    "    all_evidence_ids = list(evidence_data.keys())\n",
    "    for claim_id, info in claims_data.items():\n",
    "        claim_text = info['claim_text']\n",
    "        positive_evidences = info['evidences']\n",
    "        for evidence_id in positive_evidences:\n",
    "            if evidence_id in all_evidence_ids:\n",
    "                pairs.append((claim_text, evidence_data[evidence_id]))\n",
    "                labels.append(1)  # Positive label\n",
    "            else:\n",
    "                continue\n",
    "\n",
    "        # Create negative pairs by selecting random evidences\n",
    "        negative_evidences = np.random.choice([eid for eid in all_evidence_ids if eid not in positive_evidences],\n",
    "                                              size=len(positive_evidences), replace=False)\n",
    "        for neg_id in negative_evidences:\n",
    "            pairs.append((claim_text, evidence_data[neg_id]))\n",
    "            labels.append(0)  # Negative label\n",
    "\n",
    "    return pairs, labels\n",
    "\n",
    "# Load training and validation data\n",
    "train_pairs, train_labels = load_data('train-claims.json', 'filtered_evidence.json')\n",
    "dev_pairs, dev_labels = load_data('dev-claims.json', 'filtered_evidence.json')\n"
   ]
  },
  {
   "cell_type": "code",
   "execution_count": 9,
   "metadata": {},
   "outputs": [
    {
     "name": "stdout",
     "output_type": "stream",
     "text": [
      "('Not only is there no scientific evidence that CO2 is a pollutant, higher CO2 concentrations actually help ecosystems support more plant and animal life.', 'Plants can grow as much as 50 percent faster in concentrations of 1,000 ppm CO 2 when compared with ambient conditions, though this assumes no change in climate and no limitation on other nutrients.')\n"
     ]
    }
   ],
   "source": [
    "print(train_pairs[1])"
   ]
  },
  {
   "cell_type": "code",
   "execution_count": 5,
   "metadata": {},
   "outputs": [],
   "source": [
    "def preprocess_data(pairs):\n",
    "    # Unzip pairs\n",
    "    claim_texts, evidence_texts = zip(*pairs)\n",
    "\n",
    "    # Tokenize text\n",
    "    tokenizer = Tokenizer()\n",
    "    tokenizer.fit_on_texts(claim_texts + evidence_texts)\n",
    "    \n",
    "    # Convert texts to sequences\n",
    "    claim_seqs = tokenizer.texts_to_sequences(claim_texts)\n",
    "    evidence_seqs = tokenizer.texts_to_sequences(evidence_texts)\n",
    "    \n",
    "    # Pad sequences\n",
    "    max_length = max(max(len(seq) for seq in claim_seqs), max(len(seq) for seq in evidence_seqs))\n",
    "    claim_padded = pad_sequences(claim_seqs, maxlen=max_length)\n",
    "    evidence_padded = pad_sequences(evidence_seqs, maxlen=max_length)\n",
    "    \n",
    "    return claim_padded, evidence_padded, tokenizer, max_length\n",
    "\n",
    "# Process training and validation data\n",
    "claim_train, evidence_train, tokenizer, max_length = preprocess_data(train_pairs)\n",
    "claim_val, evidence_val, _, _ = preprocess_data(dev_pairs)\n",
    "\n",
    "train_labels = np.array(train_labels)\n",
    "dev_labels = np.array(dev_labels)\n"
   ]
  },
  {
   "cell_type": "code",
   "execution_count": 6,
   "metadata": {},
   "outputs": [],
   "source": [
    "from tensorflow.keras.layers import Input, Embedding, SimpleRNN, Lambda, Dense\n",
    "def create_siamese_model(vocab_size, embedding_dim, max_length):\n",
    "    claim_input = Input(shape=(max_length,), name='claim_input')\n",
    "    evidence_input = Input(shape=(max_length,), name='evidence_input')\n",
    "\n",
    "    shared_embedding = Embedding(input_dim=vocab_size, output_dim=embedding_dim, input_length=max_length)\n",
    "    shared_lstm = SimpleRNN(64)\n",
    "\n",
    "    encoded_claim = shared_lstm(shared_embedding(claim_input))\n",
    "    encoded_evidence = shared_lstm(shared_embedding(evidence_input))\n",
    "\n",
    "    L1_distance = Lambda(lambda tensors: tf.abs(tensors[0] - tensors[1]))\n",
    "    similarity = Dense(1, activation='sigmoid')(L1_distance([encoded_claim, encoded_evidence]))\n",
    "\n",
    "    model = Model(inputs=[claim_input, evidence_input], outputs=similarity)\n",
    "    model.compile(optimizer=Adam(), loss='binary_crossentropy', metrics=['accuracy'])\n",
    "    return model\n",
    "\n",
    "# Create model\n",
    "vocab_size = len(tokenizer.word_index) + 1\n",
    "embedding_dim = 100\n",
    "model = create_siamese_model(vocab_size, embedding_dim, max_length)\n",
    "\n"
   ]
  },
  {
   "cell_type": "code",
   "execution_count": 7,
   "metadata": {},
   "outputs": [
    {
     "name": "stdout",
     "output_type": "stream",
     "text": [
      "Epoch 1/10\n"
     ]
    },
    {
     "ename": "",
     "evalue": "",
     "output_type": "error",
     "traceback": [
      "\u001b[1;31mThe Kernel crashed while executing code in the current cell or a previous cell. \n",
      "\u001b[1;31mPlease review the code in the cell(s) to identify a possible cause of the failure. \n",
      "\u001b[1;31mClick <a href='https://aka.ms/vscodeJupyterKernelCrash'>here</a> for more info. \n",
      "\u001b[1;31mView Jupyter <a href='command:jupyter.viewOutput'>log</a> for further details."
     ]
    }
   ],
   "source": [
    "model.fit(\n",
    "    [claim_train, evidence_train], train_labels,\n",
    "    validation_data=([claim_val, evidence_val], dev_labels),\n",
    "    epochs=10,\n",
    "    batch_size=16\n",
    ")\n",
    "\n"
   ]
  }
 ],
 "metadata": {
  "kernelspec": {
   "display_name": "CV",
   "language": "python",
   "name": "python3"
  },
  "language_info": {
   "codemirror_mode": {
    "name": "ipython",
    "version": 3
   },
   "file_extension": ".py",
   "mimetype": "text/x-python",
   "name": "python",
   "nbconvert_exporter": "python",
   "pygments_lexer": "ipython3",
   "version": "3.9.17"
  }
 },
 "nbformat": 4,
 "nbformat_minor": 2
}
